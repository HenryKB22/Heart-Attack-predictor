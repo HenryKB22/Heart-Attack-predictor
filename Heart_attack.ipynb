{
  "cells": [
    {
      "cell_type": "code",
      "execution_count": 14,
      "metadata": {
        "id": "5Pizp69QYiia"
      },
      "outputs": [],
      "source": [
        "import pandas as pd\n",
        "import numpy as np\n",
        "import matplotlib.pyplot as plt\n",
        "import seaborn as sns"
      ]
    },
    {
      "cell_type": "code",
      "execution_count": 15,
      "metadata": {
        "id": "iewg_P0SYubo"
      },
      "outputs": [],
      "source": [
        "df = pd.read_csv('heart_attack_data.csv')"
      ]
    },
    {
      "cell_type": "code",
      "execution_count": 16,
      "metadata": {
        "colab": {
          "base_uri": "https://localhost:8080/",
          "height": 206
        },
        "id": "3fU-dp_ZYuYD",
        "outputId": "33884475-63fa-42bf-d3ea-48cacf1fdaf7"
      },
      "outputs": [
        {
          "data": {
            "text/html": [
              "<div>\n",
              "<style scoped>\n",
              "    .dataframe tbody tr th:only-of-type {\n",
              "        vertical-align: middle;\n",
              "    }\n",
              "\n",
              "    .dataframe tbody tr th {\n",
              "        vertical-align: top;\n",
              "    }\n",
              "\n",
              "    .dataframe thead th {\n",
              "        text-align: right;\n",
              "    }\n",
              "</style>\n",
              "<table border=\"1\" class=\"dataframe\">\n",
              "  <thead>\n",
              "    <tr style=\"text-align: right;\">\n",
              "      <th></th>\n",
              "      <th>Age</th>\n",
              "      <th>Gender</th>\n",
              "      <th>Heart rate</th>\n",
              "      <th>Systolic blood pressure</th>\n",
              "      <th>Diastolic blood pressure</th>\n",
              "      <th>Blood sugar</th>\n",
              "      <th>CK-MB</th>\n",
              "      <th>Troponin</th>\n",
              "      <th>Result</th>\n",
              "    </tr>\n",
              "  </thead>\n",
              "  <tbody>\n",
              "    <tr>\n",
              "      <th>0</th>\n",
              "      <td>64</td>\n",
              "      <td>1</td>\n",
              "      <td>66</td>\n",
              "      <td>160</td>\n",
              "      <td>83</td>\n",
              "      <td>160.0</td>\n",
              "      <td>1.80</td>\n",
              "      <td>0.012</td>\n",
              "      <td>negative</td>\n",
              "    </tr>\n",
              "    <tr>\n",
              "      <th>1</th>\n",
              "      <td>21</td>\n",
              "      <td>1</td>\n",
              "      <td>94</td>\n",
              "      <td>98</td>\n",
              "      <td>46</td>\n",
              "      <td>296.0</td>\n",
              "      <td>6.75</td>\n",
              "      <td>1.060</td>\n",
              "      <td>positive</td>\n",
              "    </tr>\n",
              "    <tr>\n",
              "      <th>2</th>\n",
              "      <td>55</td>\n",
              "      <td>1</td>\n",
              "      <td>64</td>\n",
              "      <td>160</td>\n",
              "      <td>77</td>\n",
              "      <td>270.0</td>\n",
              "      <td>1.99</td>\n",
              "      <td>0.003</td>\n",
              "      <td>negative</td>\n",
              "    </tr>\n",
              "    <tr>\n",
              "      <th>3</th>\n",
              "      <td>64</td>\n",
              "      <td>1</td>\n",
              "      <td>70</td>\n",
              "      <td>120</td>\n",
              "      <td>55</td>\n",
              "      <td>270.0</td>\n",
              "      <td>13.87</td>\n",
              "      <td>0.122</td>\n",
              "      <td>positive</td>\n",
              "    </tr>\n",
              "    <tr>\n",
              "      <th>4</th>\n",
              "      <td>55</td>\n",
              "      <td>1</td>\n",
              "      <td>64</td>\n",
              "      <td>112</td>\n",
              "      <td>65</td>\n",
              "      <td>300.0</td>\n",
              "      <td>1.08</td>\n",
              "      <td>0.003</td>\n",
              "      <td>negative</td>\n",
              "    </tr>\n",
              "  </tbody>\n",
              "</table>\n",
              "</div>"
            ],
            "text/plain": [
              "   Age  Gender  Heart rate  Systolic blood pressure  Diastolic blood pressure  \\\n",
              "0   64       1          66                      160                        83   \n",
              "1   21       1          94                       98                        46   \n",
              "2   55       1          64                      160                        77   \n",
              "3   64       1          70                      120                        55   \n",
              "4   55       1          64                      112                        65   \n",
              "\n",
              "   Blood sugar  CK-MB  Troponin    Result  \n",
              "0        160.0   1.80     0.012  negative  \n",
              "1        296.0   6.75     1.060  positive  \n",
              "2        270.0   1.99     0.003  negative  \n",
              "3        270.0  13.87     0.122  positive  \n",
              "4        300.0   1.08     0.003  negative  "
            ]
          },
          "execution_count": 16,
          "metadata": {},
          "output_type": "execute_result"
        }
      ],
      "source": [
        "df.head()"
      ]
    },
    {
      "cell_type": "code",
      "execution_count": 17,
      "metadata": {},
      "outputs": [
        {
          "data": {
            "text/html": [
              "<div>\n",
              "<style scoped>\n",
              "    .dataframe tbody tr th:only-of-type {\n",
              "        vertical-align: middle;\n",
              "    }\n",
              "\n",
              "    .dataframe tbody tr th {\n",
              "        vertical-align: top;\n",
              "    }\n",
              "\n",
              "    .dataframe thead th {\n",
              "        text-align: right;\n",
              "    }\n",
              "</style>\n",
              "<table border=\"1\" class=\"dataframe\">\n",
              "  <thead>\n",
              "    <tr style=\"text-align: right;\">\n",
              "      <th></th>\n",
              "      <th>Age</th>\n",
              "      <th>Gender</th>\n",
              "      <th>Heart rate</th>\n",
              "      <th>Systolic blood pressure</th>\n",
              "      <th>Diastolic blood pressure</th>\n",
              "      <th>Blood sugar</th>\n",
              "      <th>CK-MB</th>\n",
              "      <th>Troponin</th>\n",
              "    </tr>\n",
              "  </thead>\n",
              "  <tbody>\n",
              "    <tr>\n",
              "      <th>count</th>\n",
              "      <td>1319.000000</td>\n",
              "      <td>1319.000000</td>\n",
              "      <td>1319.000000</td>\n",
              "      <td>1319.000000</td>\n",
              "      <td>1319.000000</td>\n",
              "      <td>1319.000000</td>\n",
              "      <td>1319.000000</td>\n",
              "      <td>1319.000000</td>\n",
              "    </tr>\n",
              "    <tr>\n",
              "      <th>mean</th>\n",
              "      <td>56.191812</td>\n",
              "      <td>0.659591</td>\n",
              "      <td>78.336619</td>\n",
              "      <td>127.170584</td>\n",
              "      <td>72.269143</td>\n",
              "      <td>146.634344</td>\n",
              "      <td>15.274306</td>\n",
              "      <td>0.360942</td>\n",
              "    </tr>\n",
              "    <tr>\n",
              "      <th>std</th>\n",
              "      <td>13.647315</td>\n",
              "      <td>0.474027</td>\n",
              "      <td>51.630270</td>\n",
              "      <td>26.122720</td>\n",
              "      <td>14.033924</td>\n",
              "      <td>74.923045</td>\n",
              "      <td>46.327083</td>\n",
              "      <td>1.154568</td>\n",
              "    </tr>\n",
              "    <tr>\n",
              "      <th>min</th>\n",
              "      <td>14.000000</td>\n",
              "      <td>0.000000</td>\n",
              "      <td>20.000000</td>\n",
              "      <td>42.000000</td>\n",
              "      <td>38.000000</td>\n",
              "      <td>35.000000</td>\n",
              "      <td>0.321000</td>\n",
              "      <td>0.001000</td>\n",
              "    </tr>\n",
              "    <tr>\n",
              "      <th>25%</th>\n",
              "      <td>47.000000</td>\n",
              "      <td>0.000000</td>\n",
              "      <td>64.000000</td>\n",
              "      <td>110.000000</td>\n",
              "      <td>62.000000</td>\n",
              "      <td>98.000000</td>\n",
              "      <td>1.655000</td>\n",
              "      <td>0.006000</td>\n",
              "    </tr>\n",
              "    <tr>\n",
              "      <th>50%</th>\n",
              "      <td>58.000000</td>\n",
              "      <td>1.000000</td>\n",
              "      <td>74.000000</td>\n",
              "      <td>124.000000</td>\n",
              "      <td>72.000000</td>\n",
              "      <td>116.000000</td>\n",
              "      <td>2.850000</td>\n",
              "      <td>0.014000</td>\n",
              "    </tr>\n",
              "    <tr>\n",
              "      <th>75%</th>\n",
              "      <td>65.000000</td>\n",
              "      <td>1.000000</td>\n",
              "      <td>85.000000</td>\n",
              "      <td>143.000000</td>\n",
              "      <td>81.000000</td>\n",
              "      <td>169.500000</td>\n",
              "      <td>5.805000</td>\n",
              "      <td>0.085500</td>\n",
              "    </tr>\n",
              "    <tr>\n",
              "      <th>max</th>\n",
              "      <td>103.000000</td>\n",
              "      <td>1.000000</td>\n",
              "      <td>1111.000000</td>\n",
              "      <td>223.000000</td>\n",
              "      <td>154.000000</td>\n",
              "      <td>541.000000</td>\n",
              "      <td>300.000000</td>\n",
              "      <td>10.300000</td>\n",
              "    </tr>\n",
              "  </tbody>\n",
              "</table>\n",
              "</div>"
            ],
            "text/plain": [
              "               Age       Gender   Heart rate  Systolic blood pressure  \\\n",
              "count  1319.000000  1319.000000  1319.000000              1319.000000   \n",
              "mean     56.191812     0.659591    78.336619               127.170584   \n",
              "std      13.647315     0.474027    51.630270                26.122720   \n",
              "min      14.000000     0.000000    20.000000                42.000000   \n",
              "25%      47.000000     0.000000    64.000000               110.000000   \n",
              "50%      58.000000     1.000000    74.000000               124.000000   \n",
              "75%      65.000000     1.000000    85.000000               143.000000   \n",
              "max     103.000000     1.000000  1111.000000               223.000000   \n",
              "\n",
              "       Diastolic blood pressure  Blood sugar        CK-MB     Troponin  \n",
              "count               1319.000000  1319.000000  1319.000000  1319.000000  \n",
              "mean                  72.269143   146.634344    15.274306     0.360942  \n",
              "std                   14.033924    74.923045    46.327083     1.154568  \n",
              "min                   38.000000    35.000000     0.321000     0.001000  \n",
              "25%                   62.000000    98.000000     1.655000     0.006000  \n",
              "50%                   72.000000   116.000000     2.850000     0.014000  \n",
              "75%                   81.000000   169.500000     5.805000     0.085500  \n",
              "max                  154.000000   541.000000   300.000000    10.300000  "
            ]
          },
          "execution_count": 17,
          "metadata": {},
          "output_type": "execute_result"
        }
      ],
      "source": [
        "df.describe()"
      ]
    },
    {
      "cell_type": "code",
      "execution_count": 18,
      "metadata": {
        "id": "4M_6BAENYuSS"
      },
      "outputs": [],
      "source": [
        "# changing values in gender, if value is 1 then male, else female\n",
        "\n",
        "df['Gender'] = df['Gender'].apply(lambda x: 'Male' if x == 1 else 'Female')"
      ]
    },
    {
      "cell_type": "code",
      "execution_count": 19,
      "metadata": {
        "colab": {
          "base_uri": "https://localhost:8080/",
          "height": 178
        },
        "id": "jN9y6GvSYuU9",
        "outputId": "7884c51b-013b-45aa-f130-ab360b2ab4ae"
      },
      "outputs": [
        {
          "data": {
            "text/plain": [
              "Gender\n",
              "Male      870\n",
              "Female    449\n",
              "Name: count, dtype: int64"
            ]
          },
          "execution_count": 19,
          "metadata": {},
          "output_type": "execute_result"
        }
      ],
      "source": [
        "df['Gender'].value_counts()"
      ]
    },
    {
      "cell_type": "code",
      "execution_count": 20,
      "metadata": {
        "colab": {
          "base_uri": "https://localhost:8080/",
          "height": 206
        },
        "id": "fnmsl_LnYuPU",
        "outputId": "52f7b68b-0335-47a7-a0bd-0898942d4883"
      },
      "outputs": [
        {
          "data": {
            "text/html": [
              "<div>\n",
              "<style scoped>\n",
              "    .dataframe tbody tr th:only-of-type {\n",
              "        vertical-align: middle;\n",
              "    }\n",
              "\n",
              "    .dataframe tbody tr th {\n",
              "        vertical-align: top;\n",
              "    }\n",
              "\n",
              "    .dataframe thead th {\n",
              "        text-align: right;\n",
              "    }\n",
              "</style>\n",
              "<table border=\"1\" class=\"dataframe\">\n",
              "  <thead>\n",
              "    <tr style=\"text-align: right;\">\n",
              "      <th></th>\n",
              "      <th>Age</th>\n",
              "      <th>Gender</th>\n",
              "      <th>Heart rate</th>\n",
              "      <th>Systolic blood pressure</th>\n",
              "      <th>Diastolic blood pressure</th>\n",
              "      <th>Blood sugar</th>\n",
              "      <th>CK-MB</th>\n",
              "      <th>Troponin</th>\n",
              "      <th>Result</th>\n",
              "    </tr>\n",
              "  </thead>\n",
              "  <tbody>\n",
              "    <tr>\n",
              "      <th>0</th>\n",
              "      <td>64</td>\n",
              "      <td>Male</td>\n",
              "      <td>66</td>\n",
              "      <td>160</td>\n",
              "      <td>83</td>\n",
              "      <td>160.0</td>\n",
              "      <td>1.80</td>\n",
              "      <td>0.012</td>\n",
              "      <td>negative</td>\n",
              "    </tr>\n",
              "    <tr>\n",
              "      <th>1</th>\n",
              "      <td>21</td>\n",
              "      <td>Male</td>\n",
              "      <td>94</td>\n",
              "      <td>98</td>\n",
              "      <td>46</td>\n",
              "      <td>296.0</td>\n",
              "      <td>6.75</td>\n",
              "      <td>1.060</td>\n",
              "      <td>positive</td>\n",
              "    </tr>\n",
              "    <tr>\n",
              "      <th>2</th>\n",
              "      <td>55</td>\n",
              "      <td>Male</td>\n",
              "      <td>64</td>\n",
              "      <td>160</td>\n",
              "      <td>77</td>\n",
              "      <td>270.0</td>\n",
              "      <td>1.99</td>\n",
              "      <td>0.003</td>\n",
              "      <td>negative</td>\n",
              "    </tr>\n",
              "    <tr>\n",
              "      <th>3</th>\n",
              "      <td>64</td>\n",
              "      <td>Male</td>\n",
              "      <td>70</td>\n",
              "      <td>120</td>\n",
              "      <td>55</td>\n",
              "      <td>270.0</td>\n",
              "      <td>13.87</td>\n",
              "      <td>0.122</td>\n",
              "      <td>positive</td>\n",
              "    </tr>\n",
              "    <tr>\n",
              "      <th>4</th>\n",
              "      <td>55</td>\n",
              "      <td>Male</td>\n",
              "      <td>64</td>\n",
              "      <td>112</td>\n",
              "      <td>65</td>\n",
              "      <td>300.0</td>\n",
              "      <td>1.08</td>\n",
              "      <td>0.003</td>\n",
              "      <td>negative</td>\n",
              "    </tr>\n",
              "  </tbody>\n",
              "</table>\n",
              "</div>"
            ],
            "text/plain": [
              "   Age Gender  Heart rate  Systolic blood pressure  Diastolic blood pressure  \\\n",
              "0   64   Male          66                      160                        83   \n",
              "1   21   Male          94                       98                        46   \n",
              "2   55   Male          64                      160                        77   \n",
              "3   64   Male          70                      120                        55   \n",
              "4   55   Male          64                      112                        65   \n",
              "\n",
              "   Blood sugar  CK-MB  Troponin    Result  \n",
              "0        160.0   1.80     0.012  negative  \n",
              "1        296.0   6.75     1.060  positive  \n",
              "2        270.0   1.99     0.003  negative  \n",
              "3        270.0  13.87     0.122  positive  \n",
              "4        300.0   1.08     0.003  negative  "
            ]
          },
          "execution_count": 20,
          "metadata": {},
          "output_type": "execute_result"
        }
      ],
      "source": [
        "df.head()"
      ]
    },
    {
      "cell_type": "code",
      "execution_count": 21,
      "metadata": {},
      "outputs": [],
      "source": [
        "# Addressing potential outliers in 'Heart rate' and 'CK-MB' using the IQR method\n",
        "\n",
        "def cap_outliers(series):\n",
        "    Q1 = series.quantile(0.25)\n",
        "    Q3 = series.quantile(0.75)\n",
        "    IQR = Q3 - Q1\n",
        "    lower_bound = Q1 - 1.5 * IQR\n",
        "    upper_bound = Q3 + 1.5 * IQR\n",
        "    return series.clip(lower=lower_bound, upper=upper_bound)\n",
        "\n",
        "df['Heart rate'] = cap_outliers(df['Heart rate'])\n",
        "df['CK-MB'] = cap_outliers(df['CK-MB'])"
      ]
    },
    {
      "cell_type": "code",
      "execution_count": 22,
      "metadata": {
        "colab": {
          "base_uri": "https://localhost:8080/"
        },
        "id": "w2PkanRnYuEy",
        "outputId": "b40384ad-b359-4738-de6a-06ffdcab31ac"
      },
      "outputs": [
        {
          "name": "stdout",
          "output_type": "stream",
          "text": [
            "<class 'pandas.core.frame.DataFrame'>\n",
            "RangeIndex: 1319 entries, 0 to 1318\n",
            "Data columns (total 9 columns):\n",
            " #   Column                    Non-Null Count  Dtype  \n",
            "---  ------                    --------------  -----  \n",
            " 0   Age                       1319 non-null   int64  \n",
            " 1   Gender                    1319 non-null   object \n",
            " 2   Heart rate                1319 non-null   float64\n",
            " 3   Systolic blood pressure   1319 non-null   int64  \n",
            " 4   Diastolic blood pressure  1319 non-null   int64  \n",
            " 5   Blood sugar               1319 non-null   float64\n",
            " 6   CK-MB                     1319 non-null   float64\n",
            " 7   Troponin                  1319 non-null   float64\n",
            " 8   Result                    1319 non-null   object \n",
            "dtypes: float64(4), int64(3), object(2)\n",
            "memory usage: 92.9+ KB\n"
          ]
        }
      ],
      "source": [
        "df.info()"
      ]
    },
    {
      "cell_type": "code",
      "execution_count": 23,
      "metadata": {
        "colab": {
          "base_uri": "https://localhost:8080/",
          "height": 300
        },
        "id": "e6lrBOH8ZmTF",
        "outputId": "1835e311-2e7d-403b-ab07-496e032b623d"
      },
      "outputs": [
        {
          "data": {
            "text/html": [
              "<div>\n",
              "<style scoped>\n",
              "    .dataframe tbody tr th:only-of-type {\n",
              "        vertical-align: middle;\n",
              "    }\n",
              "\n",
              "    .dataframe tbody tr th {\n",
              "        vertical-align: top;\n",
              "    }\n",
              "\n",
              "    .dataframe thead th {\n",
              "        text-align: right;\n",
              "    }\n",
              "</style>\n",
              "<table border=\"1\" class=\"dataframe\">\n",
              "  <thead>\n",
              "    <tr style=\"text-align: right;\">\n",
              "      <th></th>\n",
              "      <th>Age</th>\n",
              "      <th>Heart rate</th>\n",
              "      <th>Systolic blood pressure</th>\n",
              "      <th>Diastolic blood pressure</th>\n",
              "      <th>Blood sugar</th>\n",
              "      <th>CK-MB</th>\n",
              "      <th>Troponin</th>\n",
              "    </tr>\n",
              "  </thead>\n",
              "  <tbody>\n",
              "    <tr>\n",
              "      <th>count</th>\n",
              "      <td>1319.000000</td>\n",
              "      <td>1319.000000</td>\n",
              "      <td>1319.000000</td>\n",
              "      <td>1319.000000</td>\n",
              "      <td>1319.000000</td>\n",
              "      <td>1319.000000</td>\n",
              "      <td>1319.000000</td>\n",
              "    </tr>\n",
              "    <tr>\n",
              "      <th>mean</th>\n",
              "      <td>56.191812</td>\n",
              "      <td>75.931766</td>\n",
              "      <td>127.170584</td>\n",
              "      <td>72.269143</td>\n",
              "      <td>146.634344</td>\n",
              "      <td>4.463456</td>\n",
              "      <td>0.360942</td>\n",
              "    </tr>\n",
              "    <tr>\n",
              "      <th>std</th>\n",
              "      <td>13.647315</td>\n",
              "      <td>14.807730</td>\n",
              "      <td>26.122720</td>\n",
              "      <td>14.033924</td>\n",
              "      <td>74.923045</td>\n",
              "      <td>3.825702</td>\n",
              "      <td>1.154568</td>\n",
              "    </tr>\n",
              "    <tr>\n",
              "      <th>min</th>\n",
              "      <td>14.000000</td>\n",
              "      <td>32.500000</td>\n",
              "      <td>42.000000</td>\n",
              "      <td>38.000000</td>\n",
              "      <td>35.000000</td>\n",
              "      <td>0.321000</td>\n",
              "      <td>0.001000</td>\n",
              "    </tr>\n",
              "    <tr>\n",
              "      <th>25%</th>\n",
              "      <td>47.000000</td>\n",
              "      <td>64.000000</td>\n",
              "      <td>110.000000</td>\n",
              "      <td>62.000000</td>\n",
              "      <td>98.000000</td>\n",
              "      <td>1.655000</td>\n",
              "      <td>0.006000</td>\n",
              "    </tr>\n",
              "    <tr>\n",
              "      <th>50%</th>\n",
              "      <td>58.000000</td>\n",
              "      <td>74.000000</td>\n",
              "      <td>124.000000</td>\n",
              "      <td>72.000000</td>\n",
              "      <td>116.000000</td>\n",
              "      <td>2.850000</td>\n",
              "      <td>0.014000</td>\n",
              "    </tr>\n",
              "    <tr>\n",
              "      <th>75%</th>\n",
              "      <td>65.000000</td>\n",
              "      <td>85.000000</td>\n",
              "      <td>143.000000</td>\n",
              "      <td>81.000000</td>\n",
              "      <td>169.500000</td>\n",
              "      <td>5.805000</td>\n",
              "      <td>0.085500</td>\n",
              "    </tr>\n",
              "    <tr>\n",
              "      <th>max</th>\n",
              "      <td>103.000000</td>\n",
              "      <td>116.500000</td>\n",
              "      <td>223.000000</td>\n",
              "      <td>154.000000</td>\n",
              "      <td>541.000000</td>\n",
              "      <td>12.030000</td>\n",
              "      <td>10.300000</td>\n",
              "    </tr>\n",
              "  </tbody>\n",
              "</table>\n",
              "</div>"
            ],
            "text/plain": [
              "               Age   Heart rate  Systolic blood pressure  \\\n",
              "count  1319.000000  1319.000000              1319.000000   \n",
              "mean     56.191812    75.931766               127.170584   \n",
              "std      13.647315    14.807730                26.122720   \n",
              "min      14.000000    32.500000                42.000000   \n",
              "25%      47.000000    64.000000               110.000000   \n",
              "50%      58.000000    74.000000               124.000000   \n",
              "75%      65.000000    85.000000               143.000000   \n",
              "max     103.000000   116.500000               223.000000   \n",
              "\n",
              "       Diastolic blood pressure  Blood sugar        CK-MB     Troponin  \n",
              "count               1319.000000  1319.000000  1319.000000  1319.000000  \n",
              "mean                  72.269143   146.634344     4.463456     0.360942  \n",
              "std                   14.033924    74.923045     3.825702     1.154568  \n",
              "min                   38.000000    35.000000     0.321000     0.001000  \n",
              "25%                   62.000000    98.000000     1.655000     0.006000  \n",
              "50%                   72.000000   116.000000     2.850000     0.014000  \n",
              "75%                   81.000000   169.500000     5.805000     0.085500  \n",
              "max                  154.000000   541.000000    12.030000    10.300000  "
            ]
          },
          "execution_count": 23,
          "metadata": {},
          "output_type": "execute_result"
        }
      ],
      "source": [
        "df.describe()"
      ]
    },
    {
      "cell_type": "code",
      "execution_count": 24,
      "metadata": {
        "colab": {
          "base_uri": "https://localhost:8080/",
          "height": 178
        },
        "id": "ko2jIz1sZmM-",
        "outputId": "fd7e9fa8-50a7-4316-e5e7-372932e1a17d"
      },
      "outputs": [
        {
          "data": {
            "text/plain": [
              "Result\n",
              "positive    810\n",
              "negative    509\n",
              "Name: count, dtype: int64"
            ]
          },
          "execution_count": 24,
          "metadata": {},
          "output_type": "execute_result"
        }
      ],
      "source": [
        "df['Result'].value_counts()"
      ]
    },
    {
      "cell_type": "code",
      "execution_count": 25,
      "metadata": {
        "colab": {
          "base_uri": "https://localhost:8080/",
          "height": 223
        },
        "id": "3RkDlZ1XpeOP",
        "outputId": "0da10b9a-ff14-46db-ab00-b1b3fea8934f"
      },
      "outputs": [
        {
          "data": {
            "text/html": [
              "<div>\n",
              "<style scoped>\n",
              "    .dataframe tbody tr th:only-of-type {\n",
              "        vertical-align: middle;\n",
              "    }\n",
              "\n",
              "    .dataframe tbody tr th {\n",
              "        vertical-align: top;\n",
              "    }\n",
              "\n",
              "    .dataframe thead th {\n",
              "        text-align: right;\n",
              "    }\n",
              "</style>\n",
              "<table border=\"1\" class=\"dataframe\">\n",
              "  <thead>\n",
              "    <tr style=\"text-align: right;\">\n",
              "      <th></th>\n",
              "      <th>Age</th>\n",
              "      <th>Gender</th>\n",
              "      <th>Heart rate</th>\n",
              "      <th>Systolic blood pressure</th>\n",
              "      <th>Diastolic blood pressure</th>\n",
              "      <th>Blood sugar</th>\n",
              "      <th>CK-MB</th>\n",
              "      <th>Troponin</th>\n",
              "      <th>Result</th>\n",
              "      <th>Age Group</th>\n",
              "    </tr>\n",
              "  </thead>\n",
              "  <tbody>\n",
              "    <tr>\n",
              "      <th>0</th>\n",
              "      <td>64</td>\n",
              "      <td>Male</td>\n",
              "      <td>66.0</td>\n",
              "      <td>160</td>\n",
              "      <td>83</td>\n",
              "      <td>160.0</td>\n",
              "      <td>1.80</td>\n",
              "      <td>0.012</td>\n",
              "      <td>negative</td>\n",
              "      <td>&gt;60</td>\n",
              "    </tr>\n",
              "    <tr>\n",
              "      <th>1</th>\n",
              "      <td>21</td>\n",
              "      <td>Male</td>\n",
              "      <td>94.0</td>\n",
              "      <td>98</td>\n",
              "      <td>46</td>\n",
              "      <td>296.0</td>\n",
              "      <td>6.75</td>\n",
              "      <td>1.060</td>\n",
              "      <td>positive</td>\n",
              "      <td>&lt;30</td>\n",
              "    </tr>\n",
              "    <tr>\n",
              "      <th>2</th>\n",
              "      <td>55</td>\n",
              "      <td>Male</td>\n",
              "      <td>64.0</td>\n",
              "      <td>160</td>\n",
              "      <td>77</td>\n",
              "      <td>270.0</td>\n",
              "      <td>1.99</td>\n",
              "      <td>0.003</td>\n",
              "      <td>negative</td>\n",
              "      <td>51-60</td>\n",
              "    </tr>\n",
              "    <tr>\n",
              "      <th>3</th>\n",
              "      <td>64</td>\n",
              "      <td>Male</td>\n",
              "      <td>70.0</td>\n",
              "      <td>120</td>\n",
              "      <td>55</td>\n",
              "      <td>270.0</td>\n",
              "      <td>12.03</td>\n",
              "      <td>0.122</td>\n",
              "      <td>positive</td>\n",
              "      <td>&gt;60</td>\n",
              "    </tr>\n",
              "    <tr>\n",
              "      <th>4</th>\n",
              "      <td>55</td>\n",
              "      <td>Male</td>\n",
              "      <td>64.0</td>\n",
              "      <td>112</td>\n",
              "      <td>65</td>\n",
              "      <td>300.0</td>\n",
              "      <td>1.08</td>\n",
              "      <td>0.003</td>\n",
              "      <td>negative</td>\n",
              "      <td>51-60</td>\n",
              "    </tr>\n",
              "  </tbody>\n",
              "</table>\n",
              "</div>"
            ],
            "text/plain": [
              "   Age Gender  Heart rate  Systolic blood pressure  Diastolic blood pressure  \\\n",
              "0   64   Male        66.0                      160                        83   \n",
              "1   21   Male        94.0                       98                        46   \n",
              "2   55   Male        64.0                      160                        77   \n",
              "3   64   Male        70.0                      120                        55   \n",
              "4   55   Male        64.0                      112                        65   \n",
              "\n",
              "   Blood sugar  CK-MB  Troponin    Result Age Group  \n",
              "0        160.0   1.80     0.012  negative       >60  \n",
              "1        296.0   6.75     1.060  positive       <30  \n",
              "2        270.0   1.99     0.003  negative     51-60  \n",
              "3        270.0  12.03     0.122  positive       >60  \n",
              "4        300.0   1.08     0.003  negative     51-60  "
            ]
          },
          "execution_count": 25,
          "metadata": {},
          "output_type": "execute_result"
        }
      ],
      "source": [
        "# Create age groups (e.g., <30, 30-40, 41-50, 51-60, >60) for better visualization.\n",
        "\n",
        "def categorize_age(age):\n",
        "    if age < 30:\n",
        "        return '<30'\n",
        "    elif age <= 40:\n",
        "        return '30-40'\n",
        "    elif age <= 50:\n",
        "        return '41-50'\n",
        "    elif age <= 60:\n",
        "        return '51-60'\n",
        "    else:\n",
        "        return '>60'\n",
        "\n",
        "df['Age Group'] = df['Age'].apply(categorize_age)\n",
        "\n",
        "df.head()"
      ]
    },
    {
      "cell_type": "code",
      "execution_count": 26,
      "metadata": {
        "colab": {
          "base_uri": "https://localhost:8080/",
          "height": 272
        },
        "id": "2eNapAH1_sih",
        "outputId": "612e42e5-abda-46c2-fdea-b0bac2c728d5"
      },
      "outputs": [
        {
          "data": {
            "text/plain": [
              "Age Group\n",
              ">60      514\n",
              "51-60    354\n",
              "41-50    275\n",
              "30-40    123\n",
              "<30       53\n",
              "Name: count, dtype: int64"
            ]
          },
          "execution_count": 26,
          "metadata": {},
          "output_type": "execute_result"
        }
      ],
      "source": [
        "df['Age Group'].value_counts()"
      ]
    },
    {
      "cell_type": "code",
      "execution_count": 27,
      "metadata": {},
      "outputs": [
        {
          "name": "stderr",
          "output_type": "stream",
          "text": [
            "C:\\Users\\KOJO\\AppData\\Local\\Temp\\ipykernel_16468\\2953243709.py:3: FutureWarning: \n",
            "\n",
            "Passing `palette` without assigning `hue` is deprecated and will be removed in v0.14.0. Assign the `x` variable to `hue` and set `legend=False` for the same effect.\n",
            "\n",
            "  sns.countplot(x='Result', data=df, palette='Set2')\n"
          ]
        },
        {
          "data": {
            "image/png": "[encoded data removed]",
            "text/plain": [
              "<Figure size 800x600 with 1 Axes>"
            ]
          },
          "metadata": {},
          "output_type": "display_data"
        }
      ],
      "source": [
        "# Visualizing the distribution of the target variable\n",
        "plt.figure(figsize=(8, 6))\n",
        "sns.countplot(x='Result', data=df, palette='Set2')\n",
        "plt.title('Distribution of Heart Attack Results')\n",
        "plt.xlabel('Heart Attack Result')\n",
        "plt.ylabel('Count')\n",
        "plt.show()"
      ]
    },
    {
      "cell_type": "code",
      "execution_count": 28,
      "metadata": {
        "colab": {
          "base_uri": "https://localhost:8080/",
          "height": 452
        },
        "id": "2jOr3cHIwcDJ",
        "outputId": "490701af-47f5-4225-ea60-5098c569dcb2"
      },
      "outputs": [
        {
          "data": {
            "image/png": "[encoded data removed]",
            "text/plain": [
              "<Figure size 640x480 with 1 Axes>"
            ]
          },
          "metadata": {},
          "output_type": "display_data"
        }
      ],
      "source": [
        "# Age distribution Age\n",
        "\n",
        "from matplotlib import pyplot as plt\n",
        "df['Age'].plot(kind='hist', bins=20, title='Age')\n",
        "plt.gca().spines[['top', 'right',]].set_visible(False)"
      ]
    },
    {
      "cell_type": "code",
      "execution_count": 29,
      "metadata": {
        "colab": {
          "base_uri": "https://localhost:8080/",
          "height": 852
        },
        "id": "YN9HIPhe50fr",
        "outputId": "0e1efbd8-82ed-4c8a-8271-8219b127eeb9"
      },
      "outputs": [
        {
          "data": {
            "text/plain": [
              "<Axes: >"
            ]
          },
          "execution_count": 29,
          "metadata": {},
          "output_type": "execute_result"
        },
        {
          "data": {
            "image/png": "[encoded data removed]",
            "text/plain": [
              "<Figure size 1000x800 with 2 Axes>"
            ]
          },
          "metadata": {},
          "output_type": "display_data"
        }
      ],
      "source": [
        "# HEAT MAP FOR CORRELATIONS\n",
        "\n",
        "# selecting columns that are numbers\n",
        "num_cols = df.select_dtypes(include=['number'])\n",
        "\n",
        "# Calculate the correlation matrix\n",
        "corr_matrix = num_cols.corr()\n",
        "\n",
        "# Create a heatmap\n",
        "plt.figure(figsize=(10, 8))\n",
        "sns.heatmap(corr_matrix, annot=True, cmap='coolwarm', fmt=\".2f\")\n",
        "\n"
      ]
    },
    {
      "cell_type": "markdown",
      "metadata": {
        "id": "GJc-hLYr-Hoe"
      },
      "source": [
        "**DATA PREPROCESSING PHASE**"
      ]
    },
    {
      "cell_type": "code",
      "execution_count": 31,
      "metadata": {
        "id": "vP4P8K_C9-q_"
      },
      "outputs": [],
      "source": [
        "from sklearn.preprocessing import LabelEncoder\n",
        "from sklearn.model_selection import train_test_split\n",
        "from sklearn.compose import ColumnTransformer\n",
        "from sklearn.pipeline import Pipeline\n",
        "from sklearn.preprocessing import OneHotEncoder, StandardScaler\n",
        "\n",
        "def preprocess_for_logReg(data, target_column, categorical_columns, test_size=0.2, random_state=42):\n",
        "    \"\"\"\n",
        "    Preprocess data for logistic regression: encode categorical variables, split data, and standardize features.\n",
        "    Also encodes the target column using LabelEncoder.\n",
        "\n",
        "    Returns:\n",
        "    - X_train, X_test, y_train, y_test, preprocessor, le\n",
        "    \"\"\"\n",
        "    # Encode the target column\n",
        "    le = LabelEncoder()\n",
        "    y = le.fit_transform(data[target_column])\n",
        "\n",
        "    # Split features and target\n",
        "    X = data.drop(columns=[target_column])\n",
        "\n",
        "    # Identify numerical columns\n",
        "    numerical_columns = [col for col in X.columns if col not in categorical_columns]\n",
        "\n",
        "    # Create preprocessing pipeline\n",
        "    preprocessor = ColumnTransformer(\n",
        "        transformers=[\n",
        "            ('cat', OneHotEncoder(drop='first', handle_unknown='ignore'), categorical_columns),\n",
        "            ('num', StandardScaler(), numerical_columns)\n",
        "        ])\n",
        "\n",
        "    # Split data into training and testing sets\n",
        "    X_train, X_test, y_train, y_test = train_test_split(\n",
        "        X, y, test_size=test_size, random_state=random_state\n",
        "    )\n",
        "\n",
        "    # Apply encoding and standardization\n",
        "    X_train = preprocessor.fit_transform(X_train)\n",
        "    X_test = preprocessor.transform(X_test)\n",
        "\n",
        "    return X_train, X_test, y_train, y_test, preprocessor, le\n",
        "\n",
        "# calling the function\n",
        "X_train, X_test, y_train, y_test, preprocessor, le = preprocess_for_logReg(\n",
        "    df, 'Result', ['Gender', 'Age Group']\n",
        ")\n"
      ]
    },
    {
      "cell_type": "code",
      "execution_count": 32,
      "metadata": {
        "colab": {
          "base_uri": "https://localhost:8080/"
        },
        "id": "wElrH6IdEnFW",
        "outputId": "18369ae7-d5b2-4d93-e178-76861b6f991c"
      },
      "outputs": [
        {
          "name": "stdout",
          "output_type": "stream",
          "text": [
            "(1055, 12)\n",
            "(264, 12)\n",
            "(1055,)\n",
            "(264,)\n"
          ]
        }
      ],
      "source": [
        "print(X_train.shape)\n",
        "print(X_test.shape)\n",
        "print(y_train.shape)\n",
        "print(y_test.shape)"
      ]
    },
    {
      "cell_type": "code",
      "execution_count": 49,
      "metadata": {},
      "outputs": [
        {
          "data": {
            "text/plain": [
              "1    647\n",
              "0    408\n",
              "Name: count, dtype: int64"
            ]
          },
          "execution_count": 49,
          "metadata": {},
          "output_type": "execute_result"
        }
      ],
      "source": [
        "pd.Series(y_train).value_counts()"
      ]
    },
    {
      "cell_type": "markdown",
      "metadata": {},
      "source": [
        "TRAINING THE MODEL WITH LOGISTIC REGRESSION"
      ]
    },
    {
      "cell_type": "code",
      "execution_count": 36,
      "metadata": {},
      "outputs": [
        {
          "name": "stdout",
          "output_type": "stream",
          "text": [
            "Accuracy: 0.803030303030303\n",
            "\n",
            "Classification Report:\n",
            "               precision    recall  f1-score   support\n",
            "\n",
            "           0       0.76      0.70      0.73       101\n",
            "           1       0.82      0.87      0.84       163\n",
            "\n",
            "    accuracy                           0.80       264\n",
            "   macro avg       0.79      0.78      0.79       264\n",
            "weighted avg       0.80      0.80      0.80       264\n",
            "\n",
            "Best Logistic Regression Confusion Matrix:\n",
            " [[ 71  30]\n",
            " [ 22 141]]\n"
          ]
        }
      ],
      "source": [
        "from sklearn.linear_model import LogisticRegression\n",
        "from sklearn.metrics import classification_report, accuracy_score, confusion_matrix\n",
        "\n",
        "# Train a logistic regression model\n",
        "model = LogisticRegression(max_iter=1000, random_state=42)\n",
        "model.fit(X_train, y_train)\n",
        "\n",
        "# Predict on the test set\n",
        "y_pred = model.predict(X_test)\n",
        "\n",
        "# Evaluate the model\n",
        "print(\"Accuracy:\", accuracy_score(y_test, y_pred))\n",
        "print(\"\\nClassification Report:\\n\", classification_report(y_test, y_pred))\n",
        "\n",
        "# Evaluate the best Logistic Regression model\n",
        "conf_matrix_logreg = confusion_matrix(y_test, y_pred)\n",
        "print(\"Best Logistic Regression Confusion Matrix:\\n\", conf_matrix_logreg)"
      ]
    },
    {
      "cell_type": "code",
      "execution_count": null,
      "metadata": {},
      "outputs": [
        {
          "name": "stdout",
          "output_type": "stream",
          "text": [
            "Best Logistic Regression Accuracy: 0.9166666666666666\n",
            "\n",
            "Best Logistic Regression Classification Report:\n",
            "               precision    recall  f1-score   support\n",
            "\n",
            "           0       0.90      0.88      0.89       101\n",
            "           1       0.93      0.94      0.93       163\n",
            "\n",
            "    accuracy                           0.92       264\n",
            "   macro avg       0.91      0.91      0.91       264\n",
            "weighted avg       0.92      0.92      0.92       264\n",
            "\n",
            "Best Logistic Regression Confusion Matrix:\n",
            " [[ 89  12]\n",
            " [ 10 153]]\n"
          ]
        }
      ],
      "source": [
        "from sklearn.metrics import confusion_matrix\n",
        "\n",
        "# Train Logistic Regression with best parameters from RandomizedSearchCV\n",
        "best_logreg = LogisticRegression(**logreg_search.best_params_, random_state=42)\n",
        "best_logreg.fit(X_train, y_train)\n",
        "y_pred_best_logreg = best_logreg.predict(X_test)\n",
        "\n",
        "print(\"Best Logistic Regression Accuracy:\", accuracy_score(y_test, y_pred_best_logreg))\n",
        "print(\"\\nBest Logistic Regression Classification Report:\\n\", classification_report(y_test, y_pred_best_logreg))\n",
        "\n",
        "# Evaluate the best Logistic Regression model\n",
        "conf_matrix_best_logreg = confusion_matrix(y_test, y_pred_best_logreg)\n",
        "print(\"Best Logistic Regression Confusion Matrix:\\n\", conf_matrix_best_logreg)"
      ]
    },
    {
      "cell_type": "markdown",
      "metadata": {},
      "source": [
        "Lets train the model with XGBOOST TOO"
      ]
    },
    {
      "cell_type": "code",
      "execution_count": 40,
      "metadata": {},
      "outputs": [
        {
          "name": "stdout",
          "output_type": "stream",
          "text": [
            "XGBoost Accuracy: 0.9810606060606061\n",
            "\n",
            "XGBoost Classification Report:\n",
            "               precision    recall  f1-score   support\n",
            "\n",
            "    negative       0.98      0.97      0.98       101\n",
            "    positive       0.98      0.99      0.98       163\n",
            "\n",
            "    accuracy                           0.98       264\n",
            "   macro avg       0.98      0.98      0.98       264\n",
            "weighted avg       0.98      0.98      0.98       264\n",
            "\n",
            "XGBoost Confusion Matrix:\n",
            " [[ 98   3]\n",
            " [  2 161]]\n"
          ]
        }
      ],
      "source": [
        "from xgboost import XGBClassifier\n",
        "\n",
        "\n",
        "xgb_model = XGBClassifier(eval_metric='logloss', random_state=42)\n",
        "xgb_model.fit(X_train, y_train)\n",
        "\n",
        "# Predict on the test set\n",
        "xgb_pred = xgb_model.predict(X_test)\n",
        "\n",
        "# Evaluate the model\n",
        "print(\"XGBoost Accuracy:\", accuracy_score(y_test, xgb_pred))\n",
        "print(\"\\nXGBoost Classification Report:\\n\", classification_report(\n",
        "    y_test, xgb_pred, target_names=[str(cls) for cls in le.classes_]))\n",
        "\n",
        "\n",
        "# Evaluate the XGBoost model\n",
        "xgb_conf_matrix = confusion_matrix(y_test, xgb_pred)\n",
        "print(\"XGBoost Confusion Matrix:\\n\", xgb_conf_matrix)"
      ]
    },
    {
      "cell_type": "code",
      "execution_count": 44,
      "metadata": {},
      "outputs": [
        {
          "name": "stdout",
          "output_type": "stream",
          "text": [
            "Fitting 5 folds for each of 20 candidates, totalling 100 fits\n",
            "Best XGBoost Params: {'subsample': 0.8, 'reg_lambda': 1, 'reg_alpha': 0, 'n_estimators': 100, 'max_depth': 6, 'learning_rate': 0.2, 'gamma': 0.3, 'colsample_bytree': 0.6}\n",
            "Best CV Score (XGBoost): 0.9876777251184834\n"
          ]
        }
      ],
      "source": [
        "from xgboost import XGBClassifier\n",
        "from sklearn.model_selection import RandomizedSearchCV, StratifiedKFold\n",
        "\n",
        "# Define parameter grid for XGBoost\n",
        "xgb_param_grid = {\n",
        "    'n_estimators': [50, 100, 200],\n",
        "    'max_depth': [3, 4, 5, 6, 7],\n",
        "    'learning_rate': [0.01, 0.05, 0.1, 0.2],\n",
        "    'subsample': [0.6, 0.8, 1.0],\n",
        "    'colsample_bytree': [0.6, 0.8, 1.0],\n",
        "    'gamma': [0, 0.1, 0.2, 0.3],\n",
        "    'reg_alpha': [0, 0.01, 0.1, 1],\n",
        "    'reg_lambda': [0.5, 1, 1.5, 2]\n",
        "}\n",
        "\n",
        "# Define StratifiedKFold cross-validator\n",
        "cv = StratifiedKFold(n_splits=5, shuffle=True, random_state=42)\n",
        "\n",
        "# Set up RandomizedSearchCV for XGBoost\n",
        "xgb_search = RandomizedSearchCV(\n",
        "    XGBClassifier(eval_metric='logloss', random_state=42),\n",
        "    xgb_param_grid,\n",
        "    n_iter=20,\n",
        "    scoring='accuracy',\n",
        "    cv=cv,\n",
        "    random_state=42,\n",
        "    n_jobs=-1,\n",
        "    verbose=1\n",
        ")\n",
        "xgb_search.fit(X_train, y_train)\n",
        "print(\"Best XGBoost Params:\", xgb_search.best_params_)\n",
        "print(\"Best CV Score (XGBoost):\", xgb_search.best_score_)"
      ]
    },
    {
      "cell_type": "code",
      "execution_count": 46,
      "metadata": {},
      "outputs": [
        {
          "name": "stdout",
          "output_type": "stream",
          "text": [
            "Best XGBoost Accuracy: 0.9810606060606061\n",
            "\n",
            "Best XGBoost Classification Report:\n",
            "               precision    recall  f1-score   support\n",
            "\n",
            "    negative       0.98      0.97      0.98       101\n",
            "    positive       0.98      0.99      0.98       163\n",
            "\n",
            "    accuracy                           0.98       264\n",
            "   macro avg       0.98      0.98      0.98       264\n",
            "weighted avg       0.98      0.98      0.98       264\n",
            "\n",
            "Best XGBoost Confusion Matrix:\n",
            " [[ 98   3]\n",
            " [  2 161]]\n"
          ]
        }
      ],
      "source": [
        "# Train the best XGBoost model and evaluate it (without use_label_encoder parameter)\n",
        "best_xgb = XGBClassifier(**xgb_search.best_params_, eval_metric='logloss', random_state=42)\n",
        "best_xgb.fit(X_train, y_train)\n",
        "y_pred_best_xgb = best_xgb.predict(X_test)\n",
        "\n",
        "print(\"Best XGBoost Accuracy:\", accuracy_score(y_test, y_pred_best_xgb))\n",
        "print(\"\\nBest XGBoost Classification Report:\\n\", classification_report(y_test, y_pred_best_xgb, target_names=list(map(str, le.classes_))))\n",
        "\n",
        "# Evaluate the best XGBoost model\n",
        "conf_matrix_best_xgb = confusion_matrix(y_test, y_pred_best_xgb)\n",
        "print(\"Best XGBoost Confusion Matrix:\\n\", conf_matrix_best_xgb)"
      ]
    },
    {
      "cell_type": "code",
      "execution_count": 47,
      "metadata": {},
      "outputs": [
        {
          "data": {
            "image/png": "[encoded data removed]",
            "text/plain": [
              "<Figure size 1000x600 with 1 Axes>"
            ]
          },
          "metadata": {},
          "output_type": "display_data"
        }
      ],
      "source": [
        "# Plotting feature importance for the best XGBoost model\n",
        "plt.figure(figsize=(10, 6))\n",
        "plt.barh(range(len(best_xgb.feature_importances_)), best_xgb.feature_importances_, align='center')\n",
        "plt.yticks(range(len(best_xgb.feature_importances_)), preprocessor.get_feature_names_out())\n",
        "plt.xlabel('Feature Importance')\n",
        "plt.title('Feature Importance from Best XGBoost Model')\n",
        "plt.show()"
      ]
    }
  ],
  "metadata": {
    "colab": {
      "provenance": []
    },
    "kernelspec": {
      "display_name": "base",
      "language": "python",
      "name": "python3"
    },
    "language_info": {
      "codemirror_mode": {
        "name": "ipython",
        "version": 3
      },
      "file_extension": ".py",
      "mimetype": "text/x-python",
      "name": "python",
      "nbconvert_exporter": "python",
      "pygments_lexer": "ipython3",
      "version": "3.12.7"
    }
  },
  "nbformat": 4,
  "nbformat_minor": 0
}
