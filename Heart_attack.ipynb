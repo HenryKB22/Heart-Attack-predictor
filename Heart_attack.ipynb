{
  "cells": [
    {
      "cell_type": "code",
      "execution_count": 1,
      "metadata": {
        "id": "5Pizp69QYiia"
      },
      "outputs": [],
      "source": [
        "import pandas as pd\n",
        "import numpy as np\n",
        "import matplotlib.pyplot as plt\n",
        "import seaborn as sns"
      ]
    },
    {
      "cell_type": "code",
      "execution_count": 3,
      "metadata": {
        "id": "iewg_P0SYubo"
      },
      "outputs": [],
      "source": [
        "df = pd.read_csv('heart_attack_data.csv')"
      ]
    },
    {
      "cell_type": "code",
      "execution_count": 4,
      "metadata": {
        "colab": {
          "base_uri": "https://localhost:8080/",
          "height": 206
        },
        "id": "3fU-dp_ZYuYD",
        "outputId": "33884475-63fa-42bf-d3ea-48cacf1fdaf7"
      },
      "outputs": [
        {
          "data": {
            "text/html": [
              "<div>\n",
              "<style scoped>\n",
              "    .dataframe tbody tr th:only-of-type {\n",
              "        vertical-align: middle;\n",
              "    }\n",
              "\n",
              "    .dataframe tbody tr th {\n",
              "        vertical-align: top;\n",
              "    }\n",
              "\n",
              "    .dataframe thead th {\n",
              "        text-align: right;\n",
              "    }\n",
              "</style>\n",
              "<table border=\"1\" class=\"dataframe\">\n",
              "  <thead>\n",
              "    <tr style=\"text-align: right;\">\n",
              "      <th></th>\n",
              "      <th>Age</th>\n",
              "      <th>Gender</th>\n",
              "      <th>Heart rate</th>\n",
              "      <th>Systolic blood pressure</th>\n",
              "      <th>Diastolic blood pressure</th>\n",
              "      <th>Blood sugar</th>\n",
              "      <th>CK-MB</th>\n",
              "      <th>Troponin</th>\n",
              "      <th>Result</th>\n",
              "    </tr>\n",
              "  </thead>\n",
              "  <tbody>\n",
              "    <tr>\n",
              "      <th>0</th>\n",
              "      <td>64</td>\n",
              "      <td>1</td>\n",
              "      <td>66</td>\n",
              "      <td>160</td>\n",
              "      <td>83</td>\n",
              "      <td>160.0</td>\n",
              "      <td>1.80</td>\n",
              "      <td>0.012</td>\n",
              "      <td>negative</td>\n",
              "    </tr>\n",
              "    <tr>\n",
              "      <th>1</th>\n",
              "      <td>21</td>\n",
              "      <td>1</td>\n",
              "      <td>94</td>\n",
              "      <td>98</td>\n",
              "      <td>46</td>\n",
              "      <td>296.0</td>\n",
              "      <td>6.75</td>\n",
              "      <td>1.060</td>\n",
              "      <td>positive</td>\n",
              "    </tr>\n",
              "    <tr>\n",
              "      <th>2</th>\n",
              "      <td>55</td>\n",
              "      <td>1</td>\n",
              "      <td>64</td>\n",
              "      <td>160</td>\n",
              "      <td>77</td>\n",
              "      <td>270.0</td>\n",
              "      <td>1.99</td>\n",
              "      <td>0.003</td>\n",
              "      <td>negative</td>\n",
              "    </tr>\n",
              "    <tr>\n",
              "      <th>3</th>\n",
              "      <td>64</td>\n",
              "      <td>1</td>\n",
              "      <td>70</td>\n",
              "      <td>120</td>\n",
              "      <td>55</td>\n",
              "      <td>270.0</td>\n",
              "      <td>13.87</td>\n",
              "      <td>0.122</td>\n",
              "      <td>positive</td>\n",
              "    </tr>\n",
              "    <tr>\n",
              "      <th>4</th>\n",
              "      <td>55</td>\n",
              "      <td>1</td>\n",
              "      <td>64</td>\n",
              "      <td>112</td>\n",
              "      <td>65</td>\n",
              "      <td>300.0</td>\n",
              "      <td>1.08</td>\n",
              "      <td>0.003</td>\n",
              "      <td>negative</td>\n",
              "    </tr>\n",
              "  </tbody>\n",
              "</table>\n",
              "</div>"
            ],
            "text/plain": [
              "   Age  Gender  Heart rate  Systolic blood pressure  Diastolic blood pressure  \\\n",
              "0   64       1          66                      160                        83   \n",
              "1   21       1          94                       98                        46   \n",
              "2   55       1          64                      160                        77   \n",
              "3   64       1          70                      120                        55   \n",
              "4   55       1          64                      112                        65   \n",
              "\n",
              "   Blood sugar  CK-MB  Troponin    Result  \n",
              "0        160.0   1.80     0.012  negative  \n",
              "1        296.0   6.75     1.060  positive  \n",
              "2        270.0   1.99     0.003  negative  \n",
              "3        270.0  13.87     0.122  positive  \n",
              "4        300.0   1.08     0.003  negative  "
            ]
          },
          "execution_count": 4,
          "metadata": {},
          "output_type": "execute_result"
        }
      ],
      "source": [
        "df.head()"
      ]
    },
    {
      "cell_type": "code",
      "execution_count": 5,
      "metadata": {
        "id": "4M_6BAENYuSS"
      },
      "outputs": [],
      "source": [
        "# changing values in gender, if value is 1 then male, else female\n",
        "\n",
        "df['Gender'] = df['Gender'].apply(lambda x: 'Male' if x == 1 else 'Female')"
      ]
    },
    {
      "cell_type": "code",
      "execution_count": 6,
      "metadata": {
        "colab": {
          "base_uri": "https://localhost:8080/",
          "height": 178
        },
        "id": "jN9y6GvSYuU9",
        "outputId": "7884c51b-013b-45aa-f130-ab360b2ab4ae"
      },
      "outputs": [
        {
          "data": {
            "text/plain": [
              "Gender\n",
              "Male      870\n",
              "Female    449\n",
              "Name: count, dtype: int64"
            ]
          },
          "execution_count": 6,
          "metadata": {},
          "output_type": "execute_result"
        }
      ],
      "source": [
        "df['Gender'].value_counts()"
      ]
    },
    {
      "cell_type": "code",
      "execution_count": 7,
      "metadata": {
        "colab": {
          "base_uri": "https://localhost:8080/",
          "height": 206
        },
        "id": "fnmsl_LnYuPU",
        "outputId": "52f7b68b-0335-47a7-a0bd-0898942d4883"
      },
      "outputs": [
        {
          "data": {
            "text/html": [
              "<div>\n",
              "<style scoped>\n",
              "    .dataframe tbody tr th:only-of-type {\n",
              "        vertical-align: middle;\n",
              "    }\n",
              "\n",
              "    .dataframe tbody tr th {\n",
              "        vertical-align: top;\n",
              "    }\n",
              "\n",
              "    .dataframe thead th {\n",
              "        text-align: right;\n",
              "    }\n",
              "</style>\n",
              "<table border=\"1\" class=\"dataframe\">\n",
              "  <thead>\n",
              "    <tr style=\"text-align: right;\">\n",
              "      <th></th>\n",
              "      <th>Age</th>\n",
              "      <th>Gender</th>\n",
              "      <th>Heart rate</th>\n",
              "      <th>Systolic blood pressure</th>\n",
              "      <th>Diastolic blood pressure</th>\n",
              "      <th>Blood sugar</th>\n",
              "      <th>CK-MB</th>\n",
              "      <th>Troponin</th>\n",
              "      <th>Result</th>\n",
              "    </tr>\n",
              "  </thead>\n",
              "  <tbody>\n",
              "    <tr>\n",
              "      <th>0</th>\n",
              "      <td>64</td>\n",
              "      <td>Male</td>\n",
              "      <td>66</td>\n",
              "      <td>160</td>\n",
              "      <td>83</td>\n",
              "      <td>160.0</td>\n",
              "      <td>1.80</td>\n",
              "      <td>0.012</td>\n",
              "      <td>negative</td>\n",
              "    </tr>\n",
              "    <tr>\n",
              "      <th>1</th>\n",
              "      <td>21</td>\n",
              "      <td>Male</td>\n",
              "      <td>94</td>\n",
              "      <td>98</td>\n",
              "      <td>46</td>\n",
              "      <td>296.0</td>\n",
              "      <td>6.75</td>\n",
              "      <td>1.060</td>\n",
              "      <td>positive</td>\n",
              "    </tr>\n",
              "    <tr>\n",
              "      <th>2</th>\n",
              "      <td>55</td>\n",
              "      <td>Male</td>\n",
              "      <td>64</td>\n",
              "      <td>160</td>\n",
              "      <td>77</td>\n",
              "      <td>270.0</td>\n",
              "      <td>1.99</td>\n",
              "      <td>0.003</td>\n",
              "      <td>negative</td>\n",
              "    </tr>\n",
              "    <tr>\n",
              "      <th>3</th>\n",
              "      <td>64</td>\n",
              "      <td>Male</td>\n",
              "      <td>70</td>\n",
              "      <td>120</td>\n",
              "      <td>55</td>\n",
              "      <td>270.0</td>\n",
              "      <td>13.87</td>\n",
              "      <td>0.122</td>\n",
              "      <td>positive</td>\n",
              "    </tr>\n",
              "    <tr>\n",
              "      <th>4</th>\n",
              "      <td>55</td>\n",
              "      <td>Male</td>\n",
              "      <td>64</td>\n",
              "      <td>112</td>\n",
              "      <td>65</td>\n",
              "      <td>300.0</td>\n",
              "      <td>1.08</td>\n",
              "      <td>0.003</td>\n",
              "      <td>negative</td>\n",
              "    </tr>\n",
              "  </tbody>\n",
              "</table>\n",
              "</div>"
            ],
            "text/plain": [
              "   Age Gender  Heart rate  Systolic blood pressure  Diastolic blood pressure  \\\n",
              "0   64   Male          66                      160                        83   \n",
              "1   21   Male          94                       98                        46   \n",
              "2   55   Male          64                      160                        77   \n",
              "3   64   Male          70                      120                        55   \n",
              "4   55   Male          64                      112                        65   \n",
              "\n",
              "   Blood sugar  CK-MB  Troponin    Result  \n",
              "0        160.0   1.80     0.012  negative  \n",
              "1        296.0   6.75     1.060  positive  \n",
              "2        270.0   1.99     0.003  negative  \n",
              "3        270.0  13.87     0.122  positive  \n",
              "4        300.0   1.08     0.003  negative  "
            ]
          },
          "execution_count": 7,
          "metadata": {},
          "output_type": "execute_result"
        }
      ],
      "source": [
        "df.head()"
      ]
    },
    {
      "cell_type": "code",
      "execution_count": 8,
      "metadata": {
        "colab": {
          "base_uri": "https://localhost:8080/"
        },
        "id": "w2PkanRnYuEy",
        "outputId": "b40384ad-b359-4738-de6a-06ffdcab31ac"
      },
      "outputs": [
        {
          "name": "stdout",
          "output_type": "stream",
          "text": [
            "<class 'pandas.core.frame.DataFrame'>\n",
            "RangeIndex: 1319 entries, 0 to 1318\n",
            "Data columns (total 9 columns):\n",
            " #   Column                    Non-Null Count  Dtype  \n",
            "---  ------                    --------------  -----  \n",
            " 0   Age                       1319 non-null   int64  \n",
            " 1   Gender                    1319 non-null   object \n",
            " 2   Heart rate                1319 non-null   int64  \n",
            " 3   Systolic blood pressure   1319 non-null   int64  \n",
            " 4   Diastolic blood pressure  1319 non-null   int64  \n",
            " 5   Blood sugar               1319 non-null   float64\n",
            " 6   CK-MB                     1319 non-null   float64\n",
            " 7   Troponin                  1319 non-null   float64\n",
            " 8   Result                    1319 non-null   object \n",
            "dtypes: float64(3), int64(4), object(2)\n",
            "memory usage: 92.9+ KB\n"
          ]
        }
      ],
      "source": [
        "df.info()"
      ]
    },
    {
      "cell_type": "code",
      "execution_count": 9,
      "metadata": {
        "colab": {
          "base_uri": "https://localhost:8080/",
          "height": 300
        },
        "id": "e6lrBOH8ZmTF",
        "outputId": "1835e311-2e7d-403b-ab07-496e032b623d"
      },
      "outputs": [
        {
          "data": {
            "text/html": [
              "<div>\n",
              "<style scoped>\n",
              "    .dataframe tbody tr th:only-of-type {\n",
              "        vertical-align: middle;\n",
              "    }\n",
              "\n",
              "    .dataframe tbody tr th {\n",
              "        vertical-align: top;\n",
              "    }\n",
              "\n",
              "    .dataframe thead th {\n",
              "        text-align: right;\n",
              "    }\n",
              "</style>\n",
              "<table border=\"1\" class=\"dataframe\">\n",
              "  <thead>\n",
              "    <tr style=\"text-align: right;\">\n",
              "      <th></th>\n",
              "      <th>Age</th>\n",
              "      <th>Heart rate</th>\n",
              "      <th>Systolic blood pressure</th>\n",
              "      <th>Diastolic blood pressure</th>\n",
              "      <th>Blood sugar</th>\n",
              "      <th>CK-MB</th>\n",
              "      <th>Troponin</th>\n",
              "    </tr>\n",
              "  </thead>\n",
              "  <tbody>\n",
              "    <tr>\n",
              "      <th>count</th>\n",
              "      <td>1319.000000</td>\n",
              "      <td>1319.000000</td>\n",
              "      <td>1319.000000</td>\n",
              "      <td>1319.000000</td>\n",
              "      <td>1319.000000</td>\n",
              "      <td>1319.000000</td>\n",
              "      <td>1319.000000</td>\n",
              "    </tr>\n",
              "    <tr>\n",
              "      <th>mean</th>\n",
              "      <td>56.191812</td>\n",
              "      <td>78.336619</td>\n",
              "      <td>127.170584</td>\n",
              "      <td>72.269143</td>\n",
              "      <td>146.634344</td>\n",
              "      <td>15.274306</td>\n",
              "      <td>0.360942</td>\n",
              "    </tr>\n",
              "    <tr>\n",
              "      <th>std</th>\n",
              "      <td>13.647315</td>\n",
              "      <td>51.630270</td>\n",
              "      <td>26.122720</td>\n",
              "      <td>14.033924</td>\n",
              "      <td>74.923045</td>\n",
              "      <td>46.327083</td>\n",
              "      <td>1.154568</td>\n",
              "    </tr>\n",
              "    <tr>\n",
              "      <th>min</th>\n",
              "      <td>14.000000</td>\n",
              "      <td>20.000000</td>\n",
              "      <td>42.000000</td>\n",
              "      <td>38.000000</td>\n",
              "      <td>35.000000</td>\n",
              "      <td>0.321000</td>\n",
              "      <td>0.001000</td>\n",
              "    </tr>\n",
              "    <tr>\n",
              "      <th>25%</th>\n",
              "      <td>47.000000</td>\n",
              "      <td>64.000000</td>\n",
              "      <td>110.000000</td>\n",
              "      <td>62.000000</td>\n",
              "      <td>98.000000</td>\n",
              "      <td>1.655000</td>\n",
              "      <td>0.006000</td>\n",
              "    </tr>\n",
              "    <tr>\n",
              "      <th>50%</th>\n",
              "      <td>58.000000</td>\n",
              "      <td>74.000000</td>\n",
              "      <td>124.000000</td>\n",
              "      <td>72.000000</td>\n",
              "      <td>116.000000</td>\n",
              "      <td>2.850000</td>\n",
              "      <td>0.014000</td>\n",
              "    </tr>\n",
              "    <tr>\n",
              "      <th>75%</th>\n",
              "      <td>65.000000</td>\n",
              "      <td>85.000000</td>\n",
              "      <td>143.000000</td>\n",
              "      <td>81.000000</td>\n",
              "      <td>169.500000</td>\n",
              "      <td>5.805000</td>\n",
              "      <td>0.085500</td>\n",
              "    </tr>\n",
              "    <tr>\n",
              "      <th>max</th>\n",
              "      <td>103.000000</td>\n",
              "      <td>1111.000000</td>\n",
              "      <td>223.000000</td>\n",
              "      <td>154.000000</td>\n",
              "      <td>541.000000</td>\n",
              "      <td>300.000000</td>\n",
              "      <td>10.300000</td>\n",
              "    </tr>\n",
              "  </tbody>\n",
              "</table>\n",
              "</div>"
            ],
            "text/plain": [
              "               Age   Heart rate  Systolic blood pressure  \\\n",
              "count  1319.000000  1319.000000              1319.000000   \n",
              "mean     56.191812    78.336619               127.170584   \n",
              "std      13.647315    51.630270                26.122720   \n",
              "min      14.000000    20.000000                42.000000   \n",
              "25%      47.000000    64.000000               110.000000   \n",
              "50%      58.000000    74.000000               124.000000   \n",
              "75%      65.000000    85.000000               143.000000   \n",
              "max     103.000000  1111.000000               223.000000   \n",
              "\n",
              "       Diastolic blood pressure  Blood sugar        CK-MB     Troponin  \n",
              "count               1319.000000  1319.000000  1319.000000  1319.000000  \n",
              "mean                  72.269143   146.634344    15.274306     0.360942  \n",
              "std                   14.033924    74.923045    46.327083     1.154568  \n",
              "min                   38.000000    35.000000     0.321000     0.001000  \n",
              "25%                   62.000000    98.000000     1.655000     0.006000  \n",
              "50%                   72.000000   116.000000     2.850000     0.014000  \n",
              "75%                   81.000000   169.500000     5.805000     0.085500  \n",
              "max                  154.000000   541.000000   300.000000    10.300000  "
            ]
          },
          "execution_count": 9,
          "metadata": {},
          "output_type": "execute_result"
        }
      ],
      "source": [
        "df.describe()"
      ]
    },
    {
      "cell_type": "code",
      "execution_count": 10,
      "metadata": {
        "colab": {
          "base_uri": "https://localhost:8080/",
          "height": 178
        },
        "id": "ko2jIz1sZmM-",
        "outputId": "fd7e9fa8-50a7-4316-e5e7-372932e1a17d"
      },
      "outputs": [
        {
          "data": {
            "text/plain": [
              "Result\n",
              "positive    810\n",
              "negative    509\n",
              "Name: count, dtype: int64"
            ]
          },
          "execution_count": 10,
          "metadata": {},
          "output_type": "execute_result"
        }
      ],
      "source": [
        "df['Result'].value_counts()"
      ]
    },
    {
      "cell_type": "code",
      "execution_count": 12,
      "metadata": {
        "colab": {
          "base_uri": "https://localhost:8080/",
          "height": 223
        },
        "id": "3RkDlZ1XpeOP",
        "outputId": "0da10b9a-ff14-46db-ab00-b1b3fea8934f"
      },
      "outputs": [
        {
          "data": {
            "text/html": [
              "<div>\n",
              "<style scoped>\n",
              "    .dataframe tbody tr th:only-of-type {\n",
              "        vertical-align: middle;\n",
              "    }\n",
              "\n",
              "    .dataframe tbody tr th {\n",
              "        vertical-align: top;\n",
              "    }\n",
              "\n",
              "    .dataframe thead th {\n",
              "        text-align: right;\n",
              "    }\n",
              "</style>\n",
              "<table border=\"1\" class=\"dataframe\">\n",
              "  <thead>\n",
              "    <tr style=\"text-align: right;\">\n",
              "      <th></th>\n",
              "      <th>Age</th>\n",
              "      <th>Gender</th>\n",
              "      <th>Heart rate</th>\n",
              "      <th>Systolic blood pressure</th>\n",
              "      <th>Diastolic blood pressure</th>\n",
              "      <th>Blood sugar</th>\n",
              "      <th>CK-MB</th>\n",
              "      <th>Troponin</th>\n",
              "      <th>Result</th>\n",
              "      <th>Blood_sugar_category</th>\n",
              "      <th>Age Group</th>\n",
              "    </tr>\n",
              "  </thead>\n",
              "  <tbody>\n",
              "    <tr>\n",
              "      <th>0</th>\n",
              "      <td>64</td>\n",
              "      <td>Male</td>\n",
              "      <td>66</td>\n",
              "      <td>160</td>\n",
              "      <td>83</td>\n",
              "      <td>160.0</td>\n",
              "      <td>1.80</td>\n",
              "      <td>0.012</td>\n",
              "      <td>negative</td>\n",
              "      <td>High</td>\n",
              "      <td>&gt;60</td>\n",
              "    </tr>\n",
              "    <tr>\n",
              "      <th>1</th>\n",
              "      <td>21</td>\n",
              "      <td>Male</td>\n",
              "      <td>94</td>\n",
              "      <td>98</td>\n",
              "      <td>46</td>\n",
              "      <td>296.0</td>\n",
              "      <td>6.75</td>\n",
              "      <td>1.060</td>\n",
              "      <td>positive</td>\n",
              "      <td>High</td>\n",
              "      <td>&lt;30</td>\n",
              "    </tr>\n",
              "    <tr>\n",
              "      <th>2</th>\n",
              "      <td>55</td>\n",
              "      <td>Male</td>\n",
              "      <td>64</td>\n",
              "      <td>160</td>\n",
              "      <td>77</td>\n",
              "      <td>270.0</td>\n",
              "      <td>1.99</td>\n",
              "      <td>0.003</td>\n",
              "      <td>negative</td>\n",
              "      <td>High</td>\n",
              "      <td>51-60</td>\n",
              "    </tr>\n",
              "    <tr>\n",
              "      <th>3</th>\n",
              "      <td>64</td>\n",
              "      <td>Male</td>\n",
              "      <td>70</td>\n",
              "      <td>120</td>\n",
              "      <td>55</td>\n",
              "      <td>270.0</td>\n",
              "      <td>13.87</td>\n",
              "      <td>0.122</td>\n",
              "      <td>positive</td>\n",
              "      <td>High</td>\n",
              "      <td>&gt;60</td>\n",
              "    </tr>\n",
              "    <tr>\n",
              "      <th>4</th>\n",
              "      <td>55</td>\n",
              "      <td>Male</td>\n",
              "      <td>64</td>\n",
              "      <td>112</td>\n",
              "      <td>65</td>\n",
              "      <td>300.0</td>\n",
              "      <td>1.08</td>\n",
              "      <td>0.003</td>\n",
              "      <td>negative</td>\n",
              "      <td>High</td>\n",
              "      <td>51-60</td>\n",
              "    </tr>\n",
              "  </tbody>\n",
              "</table>\n",
              "</div>"
            ],
            "text/plain": [
              "   Age Gender  Heart rate  Systolic blood pressure  Diastolic blood pressure  \\\n",
              "0   64   Male          66                      160                        83   \n",
              "1   21   Male          94                       98                        46   \n",
              "2   55   Male          64                      160                        77   \n",
              "3   64   Male          70                      120                        55   \n",
              "4   55   Male          64                      112                        65   \n",
              "\n",
              "   Blood sugar  CK-MB  Troponin    Result Blood_sugar_category Age Group  \n",
              "0        160.0   1.80     0.012  negative                 High       >60  \n",
              "1        296.0   6.75     1.060  positive                 High       <30  \n",
              "2        270.0   1.99     0.003  negative                 High     51-60  \n",
              "3        270.0  13.87     0.122  positive                 High       >60  \n",
              "4        300.0   1.08     0.003  negative                 High     51-60  "
            ]
          },
          "execution_count": 12,
          "metadata": {},
          "output_type": "execute_result"
        }
      ],
      "source": [
        "# Create age groups (e.g., <30, 30-40, 41-50, 51-60, >60) for better visualization.\n",
        "\n",
        "def categorize_age(age):\n",
        "    if age < 30:\n",
        "        return '<30'\n",
        "    elif age <= 40:\n",
        "        return '30-40'\n",
        "    elif age <= 50:\n",
        "        return '41-50'\n",
        "    elif age <= 60:\n",
        "        return '51-60'\n",
        "    else:\n",
        "        return '>60'\n",
        "\n",
        "df['Age Group'] = df['Age'].apply(categorize_age)\n",
        "\n",
        "df.head()"
      ]
    },
    {
      "cell_type": "code",
      "execution_count": 13,
      "metadata": {
        "colab": {
          "base_uri": "https://localhost:8080/",
          "height": 209
        },
        "id": "NvFNvk4d_jRq",
        "outputId": "cd28b4d3-e28c-4243-aa24-25d21dd2cfca"
      },
      "outputs": [
        {
          "data": {
            "text/plain": [
              "Blood_sugar_category\n",
              "Normal    684\n",
              "High      618\n",
              "Low        17\n",
              "Name: count, dtype: int64"
            ]
          },
          "execution_count": 13,
          "metadata": {},
          "output_type": "execute_result"
        }
      ],
      "source": [
        "df['Blood_sugar_category'].value_counts()"
      ]
    },
    {
      "cell_type": "code",
      "execution_count": 14,
      "metadata": {
        "colab": {
          "base_uri": "https://localhost:8080/",
          "height": 272
        },
        "id": "2eNapAH1_sih",
        "outputId": "612e42e5-abda-46c2-fdea-b0bac2c728d5"
      },
      "outputs": [
        {
          "data": {
            "text/plain": [
              "Age Group\n",
              ">60      514\n",
              "51-60    354\n",
              "41-50    275\n",
              "30-40    123\n",
              "<30       53\n",
              "Name: count, dtype: int64"
            ]
          },
          "execution_count": 14,
          "metadata": {},
          "output_type": "execute_result"
        }
      ],
      "source": [
        "df['Age Group'].value_counts()"
      ]
    },
    {
      "cell_type": "code",
      "execution_count": 23,
      "metadata": {},
      "outputs": [
        {
          "name": "stderr",
          "output_type": "stream",
          "text": [
            "C:\\Users\\KOJO\\AppData\\Local\\Temp\\ipykernel_27144\\2953243709.py:3: FutureWarning: \n",
            "\n",
            "Passing `palette` without assigning `hue` is deprecated and will be removed in v0.14.0. Assign the `x` variable to `hue` and set `legend=False` for the same effect.\n",
            "\n",
            "  sns.countplot(x='Result', data=df, palette='Set2')\n"
          ]
        },
        {
          "data": {
            "image/png": "[encoded data removed]",
            "text/plain": [
              "<Figure size 800x600 with 1 Axes>"
            ]
          },
          "metadata": {},
          "output_type": "display_data"
        }
      ],
      "source": [
        "# Visualizing the distribution of the target variable\n",
        "plt.figure(figsize=(8, 6))\n",
        "sns.countplot(x='Result', data=df, palette='Set2')\n",
        "plt.title('Distribution of Heart Attack Results')\n",
        "plt.xlabel('Heart Attack Result')\n",
        "plt.ylabel('Count')\n",
        "plt.show()"
      ]
    },
    {
      "cell_type": "code",
      "execution_count": 15,
      "metadata": {
        "colab": {
          "base_uri": "https://localhost:8080/",
          "height": 452
        },
        "id": "2jOr3cHIwcDJ",
        "outputId": "490701af-47f5-4225-ea60-5098c569dcb2"
      },
      "outputs": [
        {
          "data": {
            "image/png": "[encoded data removed]",
            "text/plain": [
              "<Figure size 640x480 with 1 Axes>"
            ]
          },
          "metadata": {},
          "output_type": "display_data"
        }
      ],
      "source": [
        "# Age distribution Age\n",
        "\n",
        "from matplotlib import pyplot as plt\n",
        "df['Age'].plot(kind='hist', bins=20, title='Age')\n",
        "plt.gca().spines[['top', 'right',]].set_visible(False)"
      ]
    },
    {
      "cell_type": "code",
      "execution_count": 16,
      "metadata": {
        "colab": {
          "base_uri": "https://localhost:8080/",
          "height": 852
        },
        "id": "YN9HIPhe50fr",
        "outputId": "0e1efbd8-82ed-4c8a-8271-8219b127eeb9"
      },
      "outputs": [
        {
          "data": {
            "text/plain": [
              "<Axes: >"
            ]
          },
          "execution_count": 16,
          "metadata": {},
          "output_type": "execute_result"
        },
        {
          "data": {
            "image/png": "[encoded data removed]",
            "text/plain": [
              "<Figure size 1000x800 with 2 Axes>"
            ]
          },
          "metadata": {},
          "output_type": "display_data"
        }
      ],
      "source": [
        "# HEAT MAP FOR CORRELATIONS\n",
        "\n",
        "# selecting columns that are numbers\n",
        "num_cols = df.select_dtypes(include=['number'])\n",
        "\n",
        "# Calculate the correlation matrix\n",
        "corr_matrix = num_cols.corr()\n",
        "\n",
        "# Create a heatmap\n",
        "plt.figure(figsize=(10, 8))\n",
        "sns.heatmap(corr_matrix, annot=True, cmap='coolwarm', fmt=\".2f\")\n",
        "\n"
      ]
    },
    {
      "cell_type": "markdown",
      "metadata": {
        "id": "GJc-hLYr-Hoe"
      },
      "source": [
        "**DATA PREPROCESSING PHASE**"
      ]
    },
    {
      "cell_type": "code",
      "execution_count": 17,
      "metadata": {
        "id": "vP4P8K_C9-q_"
      },
      "outputs": [],
      "source": [
        "# function that preprocesses data (changing object to numbers, using pd.getdummies for categorical values)\n",
        "from sklearn.model_selection import train_test_split\n",
        "from sklearn.preprocessing import OneHotEncoder, StandardScaler\n",
        "from sklearn.compose import ColumnTransformer\n",
        "from sklearn.pipeline import Pipeline\n",
        "\n",
        "def preprocess_for_ridge(data, target_column, categorical_columns, test_size=0.2, random_state=42):\n",
        "    \"\"\"\n",
        "    Preprocess data for ridge regression: encode categorical variables, split data, and standardize features.\n",
        "\n",
        "    Parameters:\n",
        "    - data (pd.DataFrame): Input dataset with features and target.\n",
        "    - target_column (str): Name of the target column (continuous).\n",
        "    - categorical_columns (list): List of column names for categorical features.\n",
        "    - test_size (float): Proportion of data for testing (default: 0.2).\n",
        "    - random_state (int): Random seed for reproducibility (default: 42).\n",
        "\n",
        "    Returns:\n",
        "    - X_train (np.array): Standardized training features.\n",
        "    - X_test (np.array): Standardized testing features.\n",
        "    - y_train (np.array): Training target values.\n",
        "    - y_test (np.array): Testing target values.\n",
        "    - preprocessor (ColumnTransformer): Fitted preprocessor for future use.\n",
        "    \"\"\"\n",
        "    # Step 1: Split features and target\n",
        "    X = data.drop(columns=[target_column])\n",
        "    y = data[target_column].values\n",
        "\n",
        "    # Step 2: Identify numerical columns\n",
        "    numerical_columns = [col for col in X.columns if col not in categorical_columns]\n",
        "\n",
        "    # Step 3: Create preprocessing pipeline\n",
        "    preprocessor = ColumnTransformer(\n",
        "        transformers=[\n",
        "            ('cat', OneHotEncoder(drop='first', handle_unknown='ignore'), categorical_columns),\n",
        "            ('num', StandardScaler(), numerical_columns)\n",
        "        ])\n",
        "\n",
        "    # Step 4: Split data into training and testing sets\n",
        "    X_train, X_test, y_train, y_test = train_test_split(\n",
        "        X, y, test_size=test_size, random_state=random_state\n",
        "    )\n",
        "\n",
        "    # Step 5: Apply encoding and standardization\n",
        "    X_train = preprocessor.fit_transform(X_train)\n",
        "    X_test = preprocessor.transform(X_test)\n",
        "\n",
        "    # Step 6: Verify data format\n",
        "    X_train = np.array(X_train)\n",
        "    X_test = np.array(X_test)\n",
        "    y_train = np.array(y_train)\n",
        "    y_test = np.array(y_test)\n",
        "\n",
        "    return X_train, X_test, y_train, y_test, preprocessor\n",
        "\n",
        "# calling the function\n",
        "X_train, X_test, y_train, y_test, preprocessor = preprocess_for_ridge(df, 'Result', ['Gender', 'Age Group', 'Blood_sugar_category'])"
      ]
    },
    {
      "cell_type": "code",
      "execution_count": 18,
      "metadata": {
        "colab": {
          "base_uri": "https://localhost:8080/"
        },
        "id": "wElrH6IdEnFW",
        "outputId": "18369ae7-d5b2-4d93-e178-76861b6f991c"
      },
      "outputs": [
        {
          "name": "stdout",
          "output_type": "stream",
          "text": [
            "(1055, 14)\n",
            "(264, 14)\n",
            "(1055,)\n",
            "(264,)\n"
          ]
        }
      ],
      "source": [
        "print(X_train.shape)\n",
        "print(X_test.shape)\n",
        "print(y_train.shape)\n",
        "print(y_test.shape)"
      ]
    },
    {
      "cell_type": "markdown",
      "metadata": {},
      "source": [
        "TRAINING THE MODEL WITH LOGISTIC REGRESSION"
      ]
    },
    {
      "cell_type": "code",
      "execution_count": 19,
      "metadata": {},
      "outputs": [
        {
          "name": "stdout",
          "output_type": "stream",
          "text": [
            "Accuracy: 0.7916666666666666\n",
            "\n",
            "Classification Report:\n",
            "               precision    recall  f1-score   support\n",
            "\n",
            "    negative       0.76      0.67      0.71       101\n",
            "    positive       0.81      0.87      0.84       163\n",
            "\n",
            "    accuracy                           0.79       264\n",
            "   macro avg       0.78      0.77      0.77       264\n",
            "weighted avg       0.79      0.79      0.79       264\n",
            "\n"
          ]
        }
      ],
      "source": [
        "from sklearn.linear_model import LogisticRegression\n",
        "from sklearn.metrics import classification_report, accuracy_score\n",
        "\n",
        "# Train a logistic regression model\n",
        "model = LogisticRegression(max_iter=1000, random_state=42)\n",
        "model.fit(X_train, y_train)\n",
        "\n",
        "# Predict on the test set\n",
        "y_pred = model.predict(X_test)\n",
        "\n",
        "# Evaluate the model\n",
        "print(\"Accuracy:\", accuracy_score(y_test, y_pred))\n",
        "print(\"\\nClassification Report:\\n\", classification_report(y_test, y_pred))"
      ]
    },
    {
      "cell_type": "markdown",
      "metadata": {},
      "source": [
        "Lets train the model with XGBOOST TOO"
      ]
    },
    {
      "cell_type": "code",
      "execution_count": 21,
      "metadata": {},
      "outputs": [
        {
          "name": "stdout",
          "output_type": "stream",
          "text": [
            "XGBoost Accuracy: 0.9810606060606061\n",
            "\n",
            "XGBoost Classification Report:\n",
            "               precision    recall  f1-score   support\n",
            "\n",
            "    negative       0.98      0.97      0.98       101\n",
            "    positive       0.98      0.99      0.98       163\n",
            "\n",
            "    accuracy                           0.98       264\n",
            "   macro avg       0.98      0.98      0.98       264\n",
            "weighted avg       0.98      0.98      0.98       264\n",
            "\n"
          ]
        },
        {
          "name": "stderr",
          "output_type": "stream",
          "text": [
            "c:\\Users\\KOJO\\anaconda3\\Lib\\site-packages\\xgboost\\training.py:183: UserWarning: [22:21:30] WARNING: C:\\actions-runner\\_work\\xgboost\\xgboost\\src\\learner.cc:738: \n",
            "Parameters: { \"use_label_encoder\" } are not used.\n",
            "\n",
            "  bst.update(dtrain, iteration=i, fobj=obj)\n"
          ]
        }
      ],
      "source": [
        "from xgboost import XGBClassifier\n",
        "from sklearn.metrics import accuracy_score, classification_report\n",
        "from sklearn.preprocessing import LabelEncoder\n",
        "\n",
        "# Encode the target labels as integers\n",
        "le = LabelEncoder()\n",
        "y_train_encoded = le.fit_transform(y_train)\n",
        "y_test_encoded = le.transform(y_test)\n",
        "\n",
        "# Train an XGBoost classifier\n",
        "xgb_model = XGBClassifier(use_label_encoder=False, eval_metric='logloss', random_state=42)\n",
        "xgb_model.fit(X_train, y_train_encoded)\n",
        "\n",
        "# Predict on the test set\n",
        "xgb_pred_encoded = xgb_model.predict(X_test)\n",
        "\n",
        "# Evaluate the model\n",
        "print(\"XGBoost Accuracy:\", accuracy_score(y_test_encoded, xgb_pred_encoded))\n",
        "print(\"\\nXGBoost Classification Report:\\n\", classification_report(y_test_encoded, xgb_pred_encoded, target_names=le.classes_))"
      ]
    },
    {
      "cell_type": "code",
      "execution_count": null,
      "metadata": {
        "id": "DteDSAca9-fq"
      },
      "outputs": [],
      "source": []
    },
    {
      "cell_type": "code",
      "execution_count": null,
      "metadata": {
        "id": "Lw3QlXId9-dA"
      },
      "outputs": [],
      "source": []
    },
    {
      "cell_type": "code",
      "execution_count": 23,
      "metadata": {
        "colab": {
          "base_uri": "https://localhost:8080/",
          "height": 17
        },
        "id": "CHRaMj6zZmJ6",
        "outputId": "dca59c42-2289-4a93-818b-4214ae0b7081"
      },
      "outputs": [
        {
          "data": {
            "application/javascript": "\n    async function download(id, filename, size) {\n      if (!google.colab.kernel.accessAllowed) {\n        return;\n      }\n      const div = document.createElement('div');\n      const label = document.createElement('label');\n      label.textContent = `Downloading \"${filename}\": `;\n      div.appendChild(label);\n      const progress = document.createElement('progress');\n      progress.max = size;\n      div.appendChild(progress);\n      document.body.appendChild(div);\n\n      const buffers = [];\n      let downloaded = 0;\n\n      const channel = await google.colab.kernel.comms.open(id);\n      // Send a message to notify the kernel that we're ready.\n      channel.send({})\n\n      for await (const message of channel.messages) {\n        // Send a message to notify the kernel that we're ready.\n        channel.send({})\n        if (message.buffers) {\n          for (const buffer of message.buffers) {\n            buffers.push(buffer);\n            downloaded += buffer.byteLength;\n            progress.value = downloaded;\n          }\n        }\n      }\n      const blob = new Blob(buffers, {type: 'application/binary'});\n      const a = document.createElement('a');\n      a.href = window.URL.createObjectURL(blob);\n      a.download = filename;\n      div.appendChild(a);\n      a.click();\n      div.remove();\n    }\n  ",
            "text/plain": [
              "<IPython.core.display.Javascript object>"
            ]
          },
          "metadata": {},
          "output_type": "display_data"
        },
        {
          "data": {
            "application/javascript": "download(\"download_ca179a11-a134-4094-aa97-d6efee01334f\", \"cleaned_heart_attack_data.csv\", 85758)",
            "text/plain": [
              "<IPython.core.display.Javascript object>"
            ]
          },
          "metadata": {},
          "output_type": "display_data"
        }
      ],
      "source": [
        "from google.colab import files\n",
        "\n",
        "# Save the dataframe to CSV\n",
        "df.to_csv('cleaned_heart_attack_data.csv', index=False)\n",
        "\n",
        "# Trigger download\n",
        "files.download('cleaned_heart_attack_data.csv')"
      ]
    }
  ],
  "metadata": {
    "colab": {
      "provenance": []
    },
    "kernelspec": {
      "display_name": "base",
      "language": "python",
      "name": "python3"
    },
    "language_info": {
      "codemirror_mode": {
        "name": "ipython",
        "version": 3
      },
      "file_extension": ".py",
      "mimetype": "text/x-python",
      "name": "python",
      "nbconvert_exporter": "python",
      "pygments_lexer": "ipython3",
      "version": "3.12.7"
    }
  },
  "nbformat": 4,
  "nbformat_minor": 0
}
